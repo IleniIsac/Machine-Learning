{
  "nbformat": 4,
  "nbformat_minor": 0,
  "metadata": {
    "colab": {
      "provenance": [],
      "include_colab_link": true
    },
    "kernelspec": {
      "name": "python3",
      "display_name": "Python 3"
    },
    "language_info": {
      "name": "python"
    }
  },
  "cells": [
    {
      "cell_type": "markdown",
      "metadata": {
        "id": "view-in-github",
        "colab_type": "text"
      },
      "source": [
        "<a href=\"https://colab.research.google.com/github/IleniIsac/isac/blob/main/Variational_AutoEncode.ipynb\" target=\"_parent\"><img src=\"https://colab.research.google.com/assets/colab-badge.svg\" alt=\"Open In Colab\"/></a>"
      ]
    },
    {
      "cell_type": "markdown",
      "source": [
        "# Define sampling layer\n",
        "Custom layer: subclassing the abstract layer class and defining the call method which describes how a tensor is transformed by the layer\n",
        "\n",
        "Subclass inherits sttributes and methods of parent class"
      ],
      "metadata": {
        "id": "o-67TWScQ0eV"
      }
    },
    {
      "cell_type": "code",
      "source": [
        "\n",
        "import numpy as np\n",
        "from tensorflow.keras import datasets\n",
        "import matplotlib.pyplot as plt\n",
        "\n",
        "\n",
        "\n",
        "# Load CIFAR-10 dataset\n",
        "(x_train, y_train), (x_test, y_test) = datasets.mnist.load_data()\n",
        "\n",
        "# Normalize the images to the range [0, 1]\n",
        "x_train = x_train.astype('float32') / 255.0\n",
        "x_test = x_test.astype('float32') / 255.0"
      ],
      "metadata": {
        "id": "Zf3eQpFsZPIc",
        "colab": {
          "base_uri": "https://localhost:8080/"
        },
        "outputId": "bf202ef7-e521-4a01-8a69-d9888a49fc05"
      },
      "execution_count": null,
      "outputs": [
        {
          "output_type": "stream",
          "name": "stdout",
          "text": [
            "Downloading data from https://storage.googleapis.com/tensorflow/tf-keras-datasets/mnist.npz\n",
            "\u001b[1m11490434/11490434\u001b[0m \u001b[32m━━━━━━━━━━━━━━━━━━━━\u001b[0m\u001b[37m\u001b[0m \u001b[1m0s\u001b[0m 0us/step\n"
          ]
        }
      ]
    },
    {
      "cell_type": "code",
      "source": [
        "x_train.shape"
      ],
      "metadata": {
        "colab": {
          "base_uri": "https://localhost:8080/"
        },
        "id": "ICw4wwTTtxjW",
        "outputId": "466ce916-c304-41df-91f6-e49244214d2a"
      },
      "execution_count": null,
      "outputs": [
        {
          "output_type": "execute_result",
          "data": {
            "text/plain": [
              "(60000, 28, 28)"
            ]
          },
          "metadata": {},
          "execution_count": 2
        }
      ]
    },
    {
      "cell_type": "code",
      "source": [
        "import tensorflow as tf\n",
        "from tensorflow.keras import layers, models, metrics, backend as K\n",
        "from tensorflow.keras.losses import binary_crossentropy"
      ],
      "metadata": {
        "id": "0s1ZO2Q1TgTC"
      },
      "execution_count": null,
      "outputs": []
    },
    {
      "cell_type": "code",
      "source": [
        "class Sampling(layers.Layer):\n",
        "  \"\"\"Uses (z_mean, z_log_var) to sample z, the vector encoding an item of\n",
        "  clothing.\"\"\"\n",
        "  def call(self, inputs):\n",
        "    z_mean, z_log_var = inputs\n",
        "    batch = tf.shape(z_mean)[0]\n",
        "    dim = tf.shape(z_mean)[1]\n",
        "    epsilon = K.random_normal(shape=(batch, dim))\n",
        "    return z_mean + tf.exp(0.5 * z_log_var) * epsilon"
      ],
      "metadata": {
        "id": "4DzH94DCQzGC"
      },
      "execution_count": null,
      "outputs": []
    },
    {
      "cell_type": "markdown",
      "source": [
        "# Defining the Encoder"
      ],
      "metadata": {
        "id": "8iKjc5SqRiwj"
      }
    },
    {
      "cell_type": "code",
      "source": [
        "encoder_input = layers.Input(shape=(32, 32, 3),name=\"encoder_input\")\n",
        "x = layers.Conv2D(32, (3, 3), strides=2, activation=\"relu\", padding=\"same\")(encoder_input)\n",
        "x = layers.Conv2D(64, (3, 3), strides=2, activation=\"relu\", padding=\"same\")(x)\n",
        "x = layers.Conv2D(128, (3, 3), strides=2, activation=\"relu\", padding=\"same\")(x)\n",
        "shape_before_flattening = K.int_shape(x)[1:]\n",
        "x = layers.Flatten()(x)\n",
        "x = layers.Dense(256, activation=\"relu\")(x)\n",
        "z_mean = layers.Dense(2, name=\"z_mean\")(x) #mapping the flattened layer to z-mean, 2 is the dimnesion of the latent space\n",
        "z_log_var = layers.Dense(2, name=\"z_log_var\")(x) #mapping the flattened layer to z-mean, 2 is the dimnesion of the latent space\n",
        "z = Sampling()([z_mean, z_log_var])\n",
        "encoder = models.Model(encoder_input, [z_mean, z_log_var, z], name=\"encoder\")"
      ],
      "metadata": {
        "id": "ShVFzGujRlEU"
      },
      "execution_count": null,
      "outputs": []
    },
    {
      "cell_type": "markdown",
      "source": [
        "# Define loss function"
      ],
      "metadata": {
        "id": "HUOTZXCGSWbl"
      }
    },
    {
      "cell_type": "code",
      "source": [
        "# Wrap the TensorFlow operations within a custom Keras layer\n",
        "class KLLossLayer(layers.Layer):\n",
        "    \"\"\"Calculates the KL divergence loss.\"\"\"\n",
        "    def call(self, inputs):\n",
        "        z_mean, z_log_var = inputs\n",
        "        kl_loss = -0.5 * tf.reduce_sum(1 + z_log_var - tf.square(z_mean) - tf.exp(z_log_var), axis=-1)\n",
        "        return kl_loss\n",
        "\n",
        "# Instantiate the custom layer and pass the KerasTensors\n",
        "kl_loss = KLLossLayer()([z_mean, z_log_var])"
      ],
      "metadata": {
        "id": "z2OdPNmBSY_g"
      },
      "execution_count": null,
      "outputs": []
    },
    {
      "cell_type": "markdown",
      "source": [
        "#Define the decoder"
      ],
      "metadata": {
        "id": "abzF6_qtaJ8C"
      }
    },
    {
      "cell_type": "code",
      "source": [
        "decoder_input = layers.Input(shape=(2,), name=\"decoder_input\")\n",
        "x = layers.Dense(np.prod(shape_before_flattening))(decoder_input)\n",
        "x = layers.Reshape(shape_before_flattening)(x)\n",
        "x = layers.Conv2DTranspose(128, (3, 3), strides=2, activation = 'relu',padding=\"same\")(x)\n",
        "x = layers.Conv2DTranspose(64, (3, 3), strides=2, activation = 'relu',padding=\"same\")(x)\n",
        "x = layers.Conv2DTranspose(32, (3, 3), strides=2, activation = 'relu',padding=\"same\")(x)\n",
        "decoder_output = layers.Conv2D(3, (3, 3), strides = 1, activation=\"sigmoid\",padding=\"same\", name=\"decoder_output\")(x)\n",
        "decoder = models.Model(decoder_input, decoder_output)\n",
        "decoder.summary()\n"
      ],
      "metadata": {
        "colab": {
          "base_uri": "https://localhost:8080/",
          "height": 374
        },
        "id": "HavtI-tjaMQZ",
        "outputId": "9d7d95cc-1c28-44c3-a86c-2d11982d0048"
      },
      "execution_count": null,
      "outputs": [
        {
          "output_type": "display_data",
          "data": {
            "text/plain": [
              "\u001b[1mModel: \"functional\"\u001b[0m\n"
            ],
            "text/html": [
              "<pre style=\"white-space:pre;overflow-x:auto;line-height:normal;font-family:Menlo,'DejaVu Sans Mono',consolas,'Courier New',monospace\"><span style=\"font-weight: bold\">Model: \"functional\"</span>\n",
              "</pre>\n"
            ]
          },
          "metadata": {}
        },
        {
          "output_type": "display_data",
          "data": {
            "text/plain": [
              "┏━━━━━━━━━━━━━━━━━━━━━━━━━━━━━━━━━━━━━━┳━━━━━━━━━━━━━━━━━━━━━━━━━━━━━┳━━━━━━━━━━━━━━━━━┓\n",
              "┃\u001b[1m \u001b[0m\u001b[1mLayer (type)                        \u001b[0m\u001b[1m \u001b[0m┃\u001b[1m \u001b[0m\u001b[1mOutput Shape               \u001b[0m\u001b[1m \u001b[0m┃\u001b[1m \u001b[0m\u001b[1m        Param #\u001b[0m\u001b[1m \u001b[0m┃\n",
              "┡━━━━━━━━━━━━━━━━━━━━━━━━━━━━━━━━━━━━━━╇━━━━━━━━━━━━━━━━━━━━━━━━━━━━━╇━━━━━━━━━━━━━━━━━┩\n",
              "│ decoder_input (\u001b[38;5;33mInputLayer\u001b[0m)           │ (\u001b[38;5;45mNone\u001b[0m, \u001b[38;5;34m2\u001b[0m)                   │               \u001b[38;5;34m0\u001b[0m │\n",
              "├──────────────────────────────────────┼─────────────────────────────┼─────────────────┤\n",
              "│ dense_1 (\u001b[38;5;33mDense\u001b[0m)                      │ (\u001b[38;5;45mNone\u001b[0m, \u001b[38;5;34m2048\u001b[0m)                │           \u001b[38;5;34m6,144\u001b[0m │\n",
              "├──────────────────────────────────────┼─────────────────────────────┼─────────────────┤\n",
              "│ reshape (\u001b[38;5;33mReshape\u001b[0m)                    │ (\u001b[38;5;45mNone\u001b[0m, \u001b[38;5;34m4\u001b[0m, \u001b[38;5;34m4\u001b[0m, \u001b[38;5;34m128\u001b[0m)           │               \u001b[38;5;34m0\u001b[0m │\n",
              "├──────────────────────────────────────┼─────────────────────────────┼─────────────────┤\n",
              "│ conv2d_transpose (\u001b[38;5;33mConv2DTranspose\u001b[0m)   │ (\u001b[38;5;45mNone\u001b[0m, \u001b[38;5;34m8\u001b[0m, \u001b[38;5;34m8\u001b[0m, \u001b[38;5;34m128\u001b[0m)           │         \u001b[38;5;34m147,584\u001b[0m │\n",
              "├──────────────────────────────────────┼─────────────────────────────┼─────────────────┤\n",
              "│ conv2d_transpose_1 (\u001b[38;5;33mConv2DTranspose\u001b[0m) │ (\u001b[38;5;45mNone\u001b[0m, \u001b[38;5;34m16\u001b[0m, \u001b[38;5;34m16\u001b[0m, \u001b[38;5;34m64\u001b[0m)          │          \u001b[38;5;34m73,792\u001b[0m │\n",
              "├──────────────────────────────────────┼─────────────────────────────┼─────────────────┤\n",
              "│ conv2d_transpose_2 (\u001b[38;5;33mConv2DTranspose\u001b[0m) │ (\u001b[38;5;45mNone\u001b[0m, \u001b[38;5;34m32\u001b[0m, \u001b[38;5;34m32\u001b[0m, \u001b[38;5;34m32\u001b[0m)          │          \u001b[38;5;34m18,464\u001b[0m │\n",
              "├──────────────────────────────────────┼─────────────────────────────┼─────────────────┤\n",
              "│ decoder_output (\u001b[38;5;33mConv2D\u001b[0m)              │ (\u001b[38;5;45mNone\u001b[0m, \u001b[38;5;34m32\u001b[0m, \u001b[38;5;34m32\u001b[0m, \u001b[38;5;34m3\u001b[0m)           │             \u001b[38;5;34m867\u001b[0m │\n",
              "└──────────────────────────────────────┴─────────────────────────────┴─────────────────┘\n"
            ],
            "text/html": [
              "<pre style=\"white-space:pre;overflow-x:auto;line-height:normal;font-family:Menlo,'DejaVu Sans Mono',consolas,'Courier New',monospace\">┏━━━━━━━━━━━━━━━━━━━━━━━━━━━━━━━━━━━━━━┳━━━━━━━━━━━━━━━━━━━━━━━━━━━━━┳━━━━━━━━━━━━━━━━━┓\n",
              "┃<span style=\"font-weight: bold\"> Layer (type)                         </span>┃<span style=\"font-weight: bold\"> Output Shape                </span>┃<span style=\"font-weight: bold\">         Param # </span>┃\n",
              "┡━━━━━━━━━━━━━━━━━━━━━━━━━━━━━━━━━━━━━━╇━━━━━━━━━━━━━━━━━━━━━━━━━━━━━╇━━━━━━━━━━━━━━━━━┩\n",
              "│ decoder_input (<span style=\"color: #0087ff; text-decoration-color: #0087ff\">InputLayer</span>)           │ (<span style=\"color: #00d7ff; text-decoration-color: #00d7ff\">None</span>, <span style=\"color: #00af00; text-decoration-color: #00af00\">2</span>)                   │               <span style=\"color: #00af00; text-decoration-color: #00af00\">0</span> │\n",
              "├──────────────────────────────────────┼─────────────────────────────┼─────────────────┤\n",
              "│ dense_1 (<span style=\"color: #0087ff; text-decoration-color: #0087ff\">Dense</span>)                      │ (<span style=\"color: #00d7ff; text-decoration-color: #00d7ff\">None</span>, <span style=\"color: #00af00; text-decoration-color: #00af00\">2048</span>)                │           <span style=\"color: #00af00; text-decoration-color: #00af00\">6,144</span> │\n",
              "├──────────────────────────────────────┼─────────────────────────────┼─────────────────┤\n",
              "│ reshape (<span style=\"color: #0087ff; text-decoration-color: #0087ff\">Reshape</span>)                    │ (<span style=\"color: #00d7ff; text-decoration-color: #00d7ff\">None</span>, <span style=\"color: #00af00; text-decoration-color: #00af00\">4</span>, <span style=\"color: #00af00; text-decoration-color: #00af00\">4</span>, <span style=\"color: #00af00; text-decoration-color: #00af00\">128</span>)           │               <span style=\"color: #00af00; text-decoration-color: #00af00\">0</span> │\n",
              "├──────────────────────────────────────┼─────────────────────────────┼─────────────────┤\n",
              "│ conv2d_transpose (<span style=\"color: #0087ff; text-decoration-color: #0087ff\">Conv2DTranspose</span>)   │ (<span style=\"color: #00d7ff; text-decoration-color: #00d7ff\">None</span>, <span style=\"color: #00af00; text-decoration-color: #00af00\">8</span>, <span style=\"color: #00af00; text-decoration-color: #00af00\">8</span>, <span style=\"color: #00af00; text-decoration-color: #00af00\">128</span>)           │         <span style=\"color: #00af00; text-decoration-color: #00af00\">147,584</span> │\n",
              "├──────────────────────────────────────┼─────────────────────────────┼─────────────────┤\n",
              "│ conv2d_transpose_1 (<span style=\"color: #0087ff; text-decoration-color: #0087ff\">Conv2DTranspose</span>) │ (<span style=\"color: #00d7ff; text-decoration-color: #00d7ff\">None</span>, <span style=\"color: #00af00; text-decoration-color: #00af00\">16</span>, <span style=\"color: #00af00; text-decoration-color: #00af00\">16</span>, <span style=\"color: #00af00; text-decoration-color: #00af00\">64</span>)          │          <span style=\"color: #00af00; text-decoration-color: #00af00\">73,792</span> │\n",
              "├──────────────────────────────────────┼─────────────────────────────┼─────────────────┤\n",
              "│ conv2d_transpose_2 (<span style=\"color: #0087ff; text-decoration-color: #0087ff\">Conv2DTranspose</span>) │ (<span style=\"color: #00d7ff; text-decoration-color: #00d7ff\">None</span>, <span style=\"color: #00af00; text-decoration-color: #00af00\">32</span>, <span style=\"color: #00af00; text-decoration-color: #00af00\">32</span>, <span style=\"color: #00af00; text-decoration-color: #00af00\">32</span>)          │          <span style=\"color: #00af00; text-decoration-color: #00af00\">18,464</span> │\n",
              "├──────────────────────────────────────┼─────────────────────────────┼─────────────────┤\n",
              "│ decoder_output (<span style=\"color: #0087ff; text-decoration-color: #0087ff\">Conv2D</span>)              │ (<span style=\"color: #00d7ff; text-decoration-color: #00d7ff\">None</span>, <span style=\"color: #00af00; text-decoration-color: #00af00\">32</span>, <span style=\"color: #00af00; text-decoration-color: #00af00\">32</span>, <span style=\"color: #00af00; text-decoration-color: #00af00\">3</span>)           │             <span style=\"color: #00af00; text-decoration-color: #00af00\">867</span> │\n",
              "└──────────────────────────────────────┴─────────────────────────────┴─────────────────┘\n",
              "</pre>\n"
            ]
          },
          "metadata": {}
        },
        {
          "output_type": "display_data",
          "data": {
            "text/plain": [
              "\u001b[1m Total params: \u001b[0m\u001b[38;5;34m246,851\u001b[0m (964.26 KB)\n"
            ],
            "text/html": [
              "<pre style=\"white-space:pre;overflow-x:auto;line-height:normal;font-family:Menlo,'DejaVu Sans Mono',consolas,'Courier New',monospace\"><span style=\"font-weight: bold\"> Total params: </span><span style=\"color: #00af00; text-decoration-color: #00af00\">246,851</span> (964.26 KB)\n",
              "</pre>\n"
            ]
          },
          "metadata": {}
        },
        {
          "output_type": "display_data",
          "data": {
            "text/plain": [
              "\u001b[1m Trainable params: \u001b[0m\u001b[38;5;34m246,851\u001b[0m (964.26 KB)\n"
            ],
            "text/html": [
              "<pre style=\"white-space:pre;overflow-x:auto;line-height:normal;font-family:Menlo,'DejaVu Sans Mono',consolas,'Courier New',monospace\"><span style=\"font-weight: bold\"> Trainable params: </span><span style=\"color: #00af00; text-decoration-color: #00af00\">246,851</span> (964.26 KB)\n",
              "</pre>\n"
            ]
          },
          "metadata": {}
        },
        {
          "output_type": "display_data",
          "data": {
            "text/plain": [
              "\u001b[1m Non-trainable params: \u001b[0m\u001b[38;5;34m0\u001b[0m (0.00 B)\n"
            ],
            "text/html": [
              "<pre style=\"white-space:pre;overflow-x:auto;line-height:normal;font-family:Menlo,'DejaVu Sans Mono',consolas,'Courier New',monospace\"><span style=\"font-weight: bold\"> Non-trainable params: </span><span style=\"color: #00af00; text-decoration-color: #00af00\">0</span> (0.00 B)\n",
              "</pre>\n"
            ]
          },
          "metadata": {}
        }
      ]
    },
    {
      "cell_type": "markdown",
      "source": [
        "# Train VAE"
      ],
      "metadata": {
        "id": "QubQOUQHSgdR"
      }
    },
    {
      "cell_type": "code",
      "source": [
        "x_train = tf.image.resize(x_train[..., tf.newaxis], [32, 32])\n",
        "x_train = tf.repeat(x_train, 3, axis=-1)\n",
        "\n",
        "vae = VAE(encoder, decoder)\n",
        "vae.compile(optimizer=\"adam\")\n",
        "vae.fit(\n",
        "    x_train,\n",
        "    epochs=5,\n",
        "    batch_size=100\n",
        ")"
      ],
      "metadata": {
        "colab": {
          "base_uri": "https://localhost:8080/",
          "height": 211
        },
        "id": "3PP3kYosaEaF",
        "outputId": "5b13dc30-708b-4827-e119-9104e28ae765"
      },
      "execution_count": null,
      "outputs": [
        {
          "output_type": "error",
          "ename": "NameError",
          "evalue": "name 'VAE' is not defined",
          "traceback": [
            "\u001b[0;31m---------------------------------------------------------------------------\u001b[0m",
            "\u001b[0;31mNameError\u001b[0m                                 Traceback (most recent call last)",
            "\u001b[0;32m<ipython-input-8-6db8eccfdf85>\u001b[0m in \u001b[0;36m<cell line: 4>\u001b[0;34m()\u001b[0m\n\u001b[1;32m      2\u001b[0m \u001b[0mx_train\u001b[0m \u001b[0;34m=\u001b[0m \u001b[0mtf\u001b[0m\u001b[0;34m.\u001b[0m\u001b[0mrepeat\u001b[0m\u001b[0;34m(\u001b[0m\u001b[0mx_train\u001b[0m\u001b[0;34m,\u001b[0m \u001b[0;36m3\u001b[0m\u001b[0;34m,\u001b[0m \u001b[0maxis\u001b[0m\u001b[0;34m=\u001b[0m\u001b[0;34m-\u001b[0m\u001b[0;36m1\u001b[0m\u001b[0;34m)\u001b[0m\u001b[0;34m\u001b[0m\u001b[0;34m\u001b[0m\u001b[0m\n\u001b[1;32m      3\u001b[0m \u001b[0;34m\u001b[0m\u001b[0m\n\u001b[0;32m----> 4\u001b[0;31m \u001b[0mvae\u001b[0m \u001b[0;34m=\u001b[0m \u001b[0mVAE\u001b[0m\u001b[0;34m(\u001b[0m\u001b[0mencoder\u001b[0m\u001b[0;34m,\u001b[0m \u001b[0mdecoder\u001b[0m\u001b[0;34m)\u001b[0m\u001b[0;34m\u001b[0m\u001b[0;34m\u001b[0m\u001b[0m\n\u001b[0m\u001b[1;32m      5\u001b[0m \u001b[0mvae\u001b[0m\u001b[0;34m.\u001b[0m\u001b[0mcompile\u001b[0m\u001b[0;34m(\u001b[0m\u001b[0moptimizer\u001b[0m\u001b[0;34m=\u001b[0m\u001b[0;34m\"adam\"\u001b[0m\u001b[0;34m)\u001b[0m\u001b[0;34m\u001b[0m\u001b[0;34m\u001b[0m\u001b[0m\n\u001b[1;32m      6\u001b[0m vae.fit(\n",
            "\u001b[0;31mNameError\u001b[0m: name 'VAE' is not defined"
          ]
        }
      ]
    },
    {
      "cell_type": "markdown",
      "source": [
        "#Making Predictions"
      ],
      "metadata": {
        "id": "fCMnmt0iRLPV"
      }
    },
    {
      "cell_type": "code",
      "source": [
        "import tensorflow as tf\n",
        "\n",
        "example_images = x_test[:5000]\n",
        "\n",
        "# Print the shape of x_test to understand its structure\n",
        "print(\"Shape of x_test:\", example_images.shape)\n",
        "\n",
        "if len(example_images.shape) == 4:\n",
        "    # Drop the last dimension if it's unnecessary\n",
        "    example_images = example_images[:,:,:,0]\n",
        "    # Reshape to add the channel dimension\n",
        "    example_images = example_images.reshape((-1, 28, 28, 1))\n",
        "elif len(example_images.shape) == 3:\n",
        "    # Reshape to add the channel dimension directly\n",
        "    example_images = example_images.reshape((-1, 28, 28, 1))\n",
        "else:\n",
        "    print(\"Unexpected shape of x_test. Please check your data.\")\n",
        "\n",
        "example_images_resized = tf.image.resize(example_images, (32, 32)) # Resize images to (32, 32)\n",
        "\n",
        "# If the images are grayscale and you need to convert them to RGB, you can\n",
        "# duplicate the grayscale channel three times:\n",
        "example_images_rgb = tf.repeat(example_images_resized, 3, axis=-1)\n",
        "\n",
        "predictions = vae.predict(example_images_rgb) # Calculate predictions\n",
        "plt.figure(figsize=(1,1))\n",
        "plt.imshow(predictions[2][51])"
      ],
      "metadata": {
        "id": "HMFQhYmRfwfP"
      },
      "execution_count": null,
      "outputs": []
    },
    {
      "cell_type": "code",
      "source": [
        "plt.figure(figsize=(0.7,0.7))\n",
        "plt.imshow(example_images[51])\n",
        "\n"
      ],
      "metadata": {
        "id": "P6hlwpBahNWs"
      },
      "execution_count": null,
      "outputs": []
    },
    {
      "cell_type": "markdown",
      "source": [
        "#Visualize sample image"
      ],
      "metadata": {
        "id": "ezlseLbDtEqa"
      }
    },
    {
      "cell_type": "code",
      "source": [
        "x_train[0]\n",
        "plt.figure(figsize=(0.7,0.7))\n",
        "plt.imshow(x_train[100])"
      ],
      "metadata": {
        "id": "5gYEjdtzr6yp"
      },
      "execution_count": null,
      "outputs": []
    },
    {
      "cell_type": "code",
      "source": [
        "# Assuming 'example_images' is a NumPy array of grayscale images\n",
        "example_images = example_images.reshape((-1, 28, 28, 1))  # Add channel dimension for grayscale\n",
        "example_images_resized = tf.image.resize(example_images, (32, 32))  # Resize to match encoder input\n",
        "example_images_rgb = tf.repeat(example_images_resized, 3, axis=-1)  # Convert to RGB by repeating channels\n",
        "\n",
        "embeddings = encoder.predict(example_images_rgb)  # Now the input should match the encoder's expectation\n",
        "embeddings[0].shape  # Check the shape of the embeddings"
      ],
      "metadata": {
        "id": "4uH81tcEloqc"
      },
      "execution_count": null,
      "outputs": []
    },
    {
      "cell_type": "markdown",
      "source": [
        "#Mapping the low dimensional latent space"
      ],
      "metadata": {
        "id": "N_5-b8bIRaDL"
      }
    },
    {
      "cell_type": "code",
      "source": [
        "# embeddings = encoder.predict(example_images) #encodings to low dimensional space of example images\n",
        "plt.figure(figsize=(8, 8))\n",
        "\n",
        "# Calculate the appropriate first dimension for reshaping\n",
        "num_points = embeddings[0].size // 2  # Total elements divided by the second dimension (2)\n",
        "\n",
        "# Reshape embeddings to 2D for plotting\n",
        "embeddings_2d = embeddings[0].reshape(num_points, 2)\n",
        "\n",
        "# Adjust the number of color values to match the number of data points\n",
        "# Assuming y_test corresponds to the labels for all data points in embeddings\n",
        "color_values = y_test.flatten()[:num_points]  # Flatten y_test and slice to match the number of points\n",
        "\n",
        "# Normalize color values to be between 0 and 1 for the colormap\n",
        "normalized_color_values = (color_values - color_values.min()) / (color_values.max() - color_values.min())\n",
        "\n",
        "# Use the reshaped embeddings for plotting\n",
        "plt.scatter(embeddings_2d[:, 0], embeddings_2d[:, 1],\n",
        "            c=normalized_color_values, cmap='tab10', alpha=0.5, s=3)\n",
        "plt.show()"
      ],
      "metadata": {
        "id": "HFMB01nkB04c"
      },
      "execution_count": null,
      "outputs": []
    },
    {
      "cell_type": "code",
      "source": [
        "from matplotlib.offsetbox import OffsetImage, AnnotationBbox\n",
        "# embeddings = encoder.predict(example_images) #encodings to low dimensional space of example images\n",
        "plt.figure(figsize=(8, 8))\n",
        "plt.scatter(embeddings[0][:, 0], embeddings[0][:, 1],  c=color_values, cmap='tab10', alpha=0.5, s=3)\n",
        "\n",
        "color_values=y_test[:5000]\n",
        "\n",
        "plt.colorbar(ticks=range(10), label='Categories')\n",
        "\n",
        "\n",
        "offset=[300,300]# distance where to display the actual\n",
        "for index in [51,210]:\n",
        "    x0, y0 = embeddings[0][index]# get the 2D embedding of the selected image\n",
        "    image = example_images[index]  #get the actual image from mnist dataset\n",
        "\n",
        "    # Create an OffsetImage\n",
        "    imagebox = OffsetImage(image, zoom=1.5)  # Adjust zoom as needed\n",
        "\n",
        "    # Create an AnnotationBbox with an offset\n",
        "    ab = AnnotationBbox(\n",
        "        imagebox,\n",
        "        (x0, y0),\n",
        "        frameon=False,\n",
        "        xybox=offset,\n",
        "        xycoords='data',\n",
        "        boxcoords=\"offset points\",\n",
        "        pad=0.5,\n",
        "        arrowprops=dict(arrowstyle=\"->\", color='red')\n",
        "    )\n",
        "\n",
        "    # Add AnnotationBbox to the plot\n",
        "    plt.gca().add_artist(ab)\n",
        "\n",
        "# Adjust plot limits to ensure there's space for the annotations\n",
        "# plt.xlim(min(embeddings[:, 0]) - 1, max(embeddings[:, 0]) + 1)\n",
        "# plt.ylim(min(embeddings[:, 1]) - 1, max(embeddings[:, 1]) + 1)\n",
        "\n",
        "# Show plot\n",
        "plt.show()"
      ],
      "metadata": {
        "id": "46f6LVzIRZfr"
      },
      "execution_count": null,
      "outputs": []
    },
    {
      "cell_type": "code",
      "source": [
        "# image.shape\n",
        "example_images=x_test[:5000]\n",
        "plt.figure(figsize=(0.7,0.7))\n",
        "plt.imshow(example_images[210])\n"
      ],
      "metadata": {
        "id": "Zme9bostAQ5r"
      },
      "execution_count": null,
      "outputs": []
    },
    {
      "cell_type": "markdown",
      "source": [
        "#Generating new images"
      ],
      "metadata": {
        "id": "bqDDi6OVmZxU"
      }
    },
    {
      "cell_type": "code",
      "source": [
        "import numpy as np\n",
        "import matplotlib.pyplot as plt\n",
        "\n",
        "# Assuming you have the decoder model defined and trained\n",
        "# Here, `latent_dim` is the dimensionality of the latent space. For example, 2.\n",
        "\n",
        "latent_dim = 2  # This should match the dimensionality used in your VAE model\n",
        "\n",
        "# Function to generate new images\n",
        "def generate_new_images(decoder, num_images=10):\n",
        "    # Sample random points from a standard normal distribution\n",
        "    random_latent_vectors = np.random.normal(size=(num_images, latent_dim))\n",
        "\n",
        "    # Decode these latent vectors to generate new images\n",
        "    generated_images = decoder.predict(random_latent_vectors)\n",
        "\n",
        "    # Plot the generated images\n",
        "    plt.figure(figsize=(2,2))\n",
        "    for i in range(num_images):\n",
        "        ax = plt.subplot(1, num_images, i + 1)\n",
        "        plt.imshow(generated_images[i].reshape(32, 32,3))  # Assuming image size is 32x32x3\n",
        "        plt.axis('off')\n",
        "    plt.show()\n",
        "\n",
        "# Generate and display new images\n",
        "generate_new_images(decoder, num_images=3)\n"
      ],
      "metadata": {
        "id": "k3kfwVd59lPa"
      },
      "execution_count": null,
      "outputs": []
    },
    {
      "cell_type": "code",
      "source": [],
      "metadata": {
        "id": "XmwF-e2p1Aqn"
      },
      "execution_count": null,
      "outputs": []
    }
  ]
}